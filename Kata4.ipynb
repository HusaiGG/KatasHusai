{
 "cells": [
  {
   "cell_type": "markdown",
   "metadata": {},
   "source": [
    "## Kata 4 - Cadenas\n",
    "Ejercicio 1: Transformar Cadenas"
   ]
  },
  {
   "cell_type": "code",
   "execution_count": 22,
   "metadata": {},
   "outputs": [
    {
     "name": "stdout",
     "output_type": "stream",
     "text": [
      "['Interesting facts about the Moon', \" The Moon is Earth's only satellite\", ' There are several interesting facts about the Moon and how it affects life here on Earth', ' \\nOn average, the Moon moves 4cm away from the Earth every year', ' This yearly drift is not significant enough to cause immediate effects on Earth', ' The highest daylight temperature of the Moon is 127 C', '']\n",
      " \n",
      "On average, the Moon moves 4cm away from the Earth every year\n",
      " The highest daylight temperature of the Moon is 127 Celsius\n"
     ]
    }
   ],
   "source": [
    "text = \"\"\"Interesting facts about the Moon. The Moon is Earth's only satellite. There are several interesting facts about the Moon and how it affects life here on Earth. \n",
    "On average, the Moon moves 4cm away from the Earth every year. This yearly drift is not significant enough to cause immediate effects on Earth. The highest daylight temperature of the Moon is 127 C.\"\"\"\n",
    "\n",
    "sep_Oracion = text.split('.')\n",
    "print(sep_Oracion)\n",
    "\n",
    "Palabras_clave = [\"average\", \"temperature\", \"distance\"]\n",
    "\n",
    "for datos in sep_Oracion:\n",
    "    datos.replace(' C',' Celsius')\n",
    "    for Palabras_encontrada in Palabras_clave:\n",
    "        if Palabras_encontrada in datos:\n",
    "            print(datos.replace(' C', ' Celsius'))\n",
    "            break\n"
   ]
  },
  {
   "cell_type": "markdown",
   "metadata": {},
   "source": [
    "Ejercicio 2: Formateando Cadenas\n"
   ]
  },
  {
   "cell_type": "code",
   "execution_count": 28,
   "metadata": {},
   "outputs": [
    {
     "name": "stdout",
     "output_type": "stream",
     "text": [
      "Gravedad En Earth\n",
      "--------------------------------------------------\n",
      "Nombre del Planeta: Earth\n",
      "Gravedad en Moon: 1.6199999999999999 en mts\n",
      "\n",
      "Prueba de la plantilla\n",
      "\n",
      "Gravedad En Marte\n",
      "--------------------------------------------------\n",
      "Nombre del Planeta: Marte\n",
      "Gravedad en Ganímedes: 1.4300000000000002 en mts\n"
     ]
    }
   ],
   "source": [
    "name = \"Moon\"\n",
    "gravity = 0.00162\n",
    "planet = \"Earth\"\n",
    "\n",
    "title = f\"Gravedad en {planet}\".title()\n",
    "plantilla = f\"\"\"\\n{'-'*50}\\nNombre del Planeta: {planet}\\nGravedad en {name}: {gravity * 1000} en mts\"\"\"\n",
    "\n",
    "InfoT = title + plantilla\n",
    "print(InfoT)\n",
    "\n",
    "name = \"Ganímedes\"\n",
    "gravity = 0.00143\n",
    "planet = \"Marte\"\n",
    "\n",
    "print(\"\\nPrueba de la plantilla\\n\")\n",
    "\n",
    "title = f\"Gravedad en {planet}\".title()\n",
    "plantilla = f\"\"\"\\n{'-'*50}\\nNombre del Planeta: {planet}\\nGravedad en {name}: {gravity * 1000} en mts\"\"\"\n",
    "\n",
    "InfoT = title + plantilla\n",
    "print(InfoT)\n",
    "\n"
   ]
  }
 ],
 "metadata": {
  "interpreter": {
   "hash": "6107faeea8d866e64a33fd7b62ff128b780743465e7bd47d4cb25f62fbe9f903"
  },
  "kernelspec": {
   "display_name": "Python 3.8.10 64-bit",
   "language": "python",
   "name": "python3"
  },
  "language_info": {
   "codemirror_mode": {
    "name": "ipython",
    "version": 3
   },
   "file_extension": ".py",
   "mimetype": "text/x-python",
   "name": "python",
   "nbconvert_exporter": "python",
   "pygments_lexer": "ipython3",
   "version": "3.8.10"
  },
  "orig_nbformat": 4
 },
 "nbformat": 4,
 "nbformat_minor": 2
}
