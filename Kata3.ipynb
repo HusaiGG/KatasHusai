{
 "cells": [
  {
   "cell_type": "markdown",
   "metadata": {},
   "source": [
    "## Kata 3 - declaraciones if, else, elsif\n",
    "\n",
    "Ejercicio 1: Asteroide viaja a 49 km/s \n"
   ]
  },
  {
   "cell_type": "code",
   "execution_count": 1,
   "metadata": {},
   "outputs": [
    {
     "name": "stdout",
     "output_type": "stream",
     "text": [
      "Alerta a todo el mundo un asteroide se acerca\n"
     ]
    }
   ],
   "source": [
    "velocidad_asteroide = 49\n",
    "\n",
    "if velocidad_asteroide > 25:\n",
    "    print(\"Alerta a todo el mundo un asteroide se acerca\")\n",
    "else:\n",
    "    print(\"No hay peligro por el momento, puedes seguir con tu vida\")"
   ]
  },
  {
   "cell_type": "markdown",
   "metadata": {},
   "source": [
    "Ejercicio 2: Asteoride entra en la atmósfera de la tierra velocidad de 19 km/s"
   ]
  },
  {
   "cell_type": "code",
   "execution_count": 2,
   "metadata": {},
   "outputs": [
    {
     "name": "stdout",
     "output_type": "stream",
     "text": [
      "No será posible ver el asteroide, suerte para la próxima\n"
     ]
    }
   ],
   "source": [
    "Asteroide = 19\n",
    "if Asteroide >= 20:\n",
    "    print(\"Mira al cielo para poder ver el asteroide\")\n",
    "else:\n",
    "    print(\"No será posible ver el asteroide, suerte para la próxima\")"
   ]
  },
  {
   "cell_type": "markdown",
   "metadata": {},
   "source": [
    "Ejercicio: Uso de operadores and y or"
   ]
  },
  {
   "cell_type": "code",
   "execution_count": 5,
   "metadata": {},
   "outputs": [
    {
     "name": "stdout",
     "output_type": "stream",
     "text": [
      "Viene un asteroide a la Tierra y causará mucho daño\n"
     ]
    }
   ],
   "source": [
    "Vel_Asteroide = 50\n",
    "Tamanio_asteroide = 50\n",
    "\n",
    "if Vel_Asteroide > 25:\n",
    "    if Tamanio_asteroide > 25 and Tamanio_asteroide < 100:\n",
    "        print(\"Viene un asteroide a la Tierra y causará mucho daño\")\n",
    "    else:\n",
    "        print(\"El asteroide es muy chico y no podrá hacer daño\")\n",
    "elif Vel_Asteroide >= 20:\n",
    "    print(\"Mira al cielo, para poder ver el asteroide\")\n",
    "else:\n",
    "    print(\"No hay de que preocuparse, sigue con tu vida\")\n",
    "\n",
    "        \n"
   ]
  }
 ],
 "metadata": {
  "interpreter": {
   "hash": "6107faeea8d866e64a33fd7b62ff128b780743465e7bd47d4cb25f62fbe9f903"
  },
  "kernelspec": {
   "display_name": "Python 3.8.10 64-bit",
   "language": "python",
   "name": "python3"
  },
  "language_info": {
   "codemirror_mode": {
    "name": "ipython",
    "version": 3
   },
   "file_extension": ".py",
   "mimetype": "text/x-python",
   "name": "python",
   "nbconvert_exporter": "python",
   "pygments_lexer": "ipython3",
   "version": "3.8.10"
  },
  "orig_nbformat": 4
 },
 "nbformat": 4,
 "nbformat_minor": 2
}
