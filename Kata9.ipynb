{
 "cells": [
  {
   "cell_type": "markdown",
   "metadata": {},
   "source": [
    "## Kata 9 - Funciones\n",
    "Ejercicio 1 - Trabajar con argumentos en funciones"
   ]
  },
  {
   "cell_type": "code",
   "execution_count": 11,
   "metadata": {},
   "outputs": [
    {
     "name": "stdout",
     "output_type": "stream",
     "text": [
      "El promedio de combustible es de: 78.33333333333333\n",
      "    El contenido del tanque1 es: 80\n",
      "    El contenido del tanque2 es: 70\n",
      "    El contenido del tanque3 es: 85\n",
      "El promedio de combustible es:  82.0\n",
      "El promedio de combustible es de: 78.0\n",
      "    El contenido del tanque1 es: 88\n",
      "    El contenido del tanque2 es: 76\n",
      "    El contenido del tanque3 es: 70\n"
     ]
    }
   ],
   "source": [
    "#Función para leer 3 tanques y mostrar promedio\n",
    "def Tanq_Comb(T1, T2, T3):\n",
    "    average = (T1 + T2 + T3) / 3\n",
    "    return f\"\"\"El promedio de combustible es de: {average}\n",
    "    El contenido del tanque1 es: {T1}\n",
    "    El contenido del tanque2 es: {T2}\n",
    "    El contenido del tanque3 es: {T3}\"\"\"\n",
    "print(Tanq_Comb(80, 70, 85))\n",
    "\n",
    "#funcion de promedio\n",
    "def prom(*args):\n",
    "    Total = sum(args)/len(args)\n",
    "    return Total\n",
    "print(\"El promedio de combustible es: \", prom(80,85,81))\n",
    "\n",
    "#Actualizacion funcion Tanq_comb\n",
    "def Reporte(T1, T2, T3):\n",
    "    average = prom(T1,T2,T3)\n",
    "    return f\"\"\"El promedio de combustible es de: {average}\n",
    "    El contenido del tanque1 es: {T1}\n",
    "    El contenido del tanque2 es: {T2}\n",
    "    El contenido del tanque3 es: {T3}\"\"\"\n",
    "print(Reporte(88,76,70))"
   ]
  },
  {
   "cell_type": "markdown",
   "metadata": {},
   "source": [
    "Ejercicio 2 - Trabajo con argumentos de palabra clave"
   ]
  },
  {
   "cell_type": "code",
   "execution_count": 15,
   "metadata": {},
   "outputs": [
    {
     "name": "stdout",
     "output_type": "stream",
     "text": [
      "\n",
      "    Destino: Luna\n",
      "    Duracion del vuelo: 65 minutos\n",
      "    Total de combustible: 500000\n",
      "    \n",
      "\n",
      "    Destino: Jupiter\n",
      "    Tiempo de vuelo: 81 minutos\n",
      "    Total de combustible: 500000\n",
      "    \n",
      "\n",
      "    Destino: Saturno,\n",
      "    Tiempo de vuelo: 80 minutos\n",
      "    Total de combustible: 51000\n",
      "    \n",
      "interno: 30000 galones\n",
      "Externo: 20000 galones\n",
      "Adicional: 1000 galones\n",
      "None\n"
     ]
    }
   ],
   "source": [
    "# Función con un informe preciso de la misión. Considera hora de prelanzamiento, tiempo de vuelo, destino, tanque externo y tanque interno\n",
    "# 5 argumentos\n",
    "def variables(prelanzamiento, tiempo_vuelo, destino, T_Externo, T_interno):\n",
    "    return f\"\"\"\n",
    "    Destino: {destino}\n",
    "    Duracion del vuelo: {prelanzamiento + tiempo_vuelo} minutos\n",
    "    Total de combustible: {T_Externo + T_interno}\n",
    "    \"\"\"\n",
    "print(variables(14,51,\"Luna\", 200000, 300000))\n",
    "\n",
    "def detalles(DestinoFinal, *tiempo, **Tanques):\n",
    "    return f\"\"\"\n",
    "    Destino: {DestinoFinal}\n",
    "    Tiempo de vuelo: {sum(tiempo)} minutos\n",
    "    Total de combustible: {sum(Tanques.values())}\n",
    "    \"\"\"\n",
    "print(detalles(\"Jupiter\", 10, 20, 51, interno=300000, externo=200000))\n",
    "\n",
    "def Reporte_Completo(Destino, *tiempoT, **Tanques_Com):\n",
    "    print(f\"\"\"\n",
    "    Destino: {Destino},\n",
    "    Tiempo de vuelo: {sum(tiempoT)} minutos\n",
    "    Total de combustible: {sum(Tanques_Com.values())}\n",
    "    \"\"\")\n",
    "    for Tipo_Tanque, Combustible in Tanques_Com.items():\n",
    "        print(f'{Tipo_Tanque}: {Combustible} galones')\n",
    "print(Reporte_Completo(\"Saturno\", 10, 15, 55, interno = 30000, Externo = 20000, Adicional = 1000))"
   ]
  }
 ],
 "metadata": {
  "interpreter": {
   "hash": "6107faeea8d866e64a33fd7b62ff128b780743465e7bd47d4cb25f62fbe9f903"
  },
  "kernelspec": {
   "display_name": "Python 3.8.10 64-bit",
   "language": "python",
   "name": "python3"
  },
  "language_info": {
   "codemirror_mode": {
    "name": "ipython",
    "version": 3
   },
   "file_extension": ".py",
   "mimetype": "text/x-python",
   "name": "python",
   "nbconvert_exporter": "python",
   "pygments_lexer": "ipython3",
   "version": "3.8.10"
  },
  "orig_nbformat": 4
 },
 "nbformat": 4,
 "nbformat_minor": 2
}
