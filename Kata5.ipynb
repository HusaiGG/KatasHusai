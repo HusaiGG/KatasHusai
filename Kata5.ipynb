{
 "cells": [
  {
   "cell_type": "markdown",
   "metadata": {},
   "source": [
    "## Kata 5 - Operadores aritméticos\n",
    "Ejercicio 1: Utilizar operadores aritméticos"
   ]
  },
  {
   "cell_type": "code",
   "execution_count": 2,
   "metadata": {},
   "outputs": [
    {
     "name": "stdout",
     "output_type": "stream",
     "text": [
      "Distancia en km:  628949330\n",
      "Distancia en Millas:  390577533.93\n"
     ]
    }
   ],
   "source": [
    "Tierra = 149597870\n",
    "Jupiter = 778547200\n",
    "\n",
    "Dist = Jupiter - Tierra\n",
    "print(\"Distancia en km: \", Dist)\n",
    "print(\"Distancia en Millas: \", Dist*0.621)"
   ]
  },
  {
   "cell_type": "markdown",
   "metadata": {},
   "source": [
    "Ejercicio 2: Covierte cadenas en números y usa valores absolutos"
   ]
  },
  {
   "cell_type": "code",
   "execution_count": 3,
   "metadata": {},
   "outputs": [
    {
     "name": "stdout",
     "output_type": "stream",
     "text": [
      "La Distancia entre los planetas elegidos es: 1747866600.0\n"
     ]
    }
   ],
   "source": [
    "Planeta1 = input(\"Ingresa la distancia: \")\n",
    "Planeta2 = input(\"Ingresa la Distancia: \")\n",
    "Dist1 = int(Planeta1)\n",
    "Dist2 = int(Planeta2)\n",
    "\n",
    "Distancia_Total = abs(Dist1 - Dist2) * 0.621\n",
    "\n",
    "print(f'La Distancia entre los planetas elegidos es de: {Distancia_Total} millas')"
   ]
  }
 ],
 "metadata": {
  "interpreter": {
   "hash": "6107faeea8d866e64a33fd7b62ff128b780743465e7bd47d4cb25f62fbe9f903"
  },
  "kernelspec": {
   "display_name": "Python 3.8.10 64-bit",
   "language": "python",
   "name": "python3"
  },
  "language_info": {
   "codemirror_mode": {
    "name": "ipython",
    "version": 3
   },
   "file_extension": ".py",
   "mimetype": "text/x-python",
   "name": "python",
   "nbconvert_exporter": "python",
   "pygments_lexer": "ipython3",
   "version": "3.8.10"
  },
  "orig_nbformat": 4
 },
 "nbformat": 4,
 "nbformat_minor": 2
}
