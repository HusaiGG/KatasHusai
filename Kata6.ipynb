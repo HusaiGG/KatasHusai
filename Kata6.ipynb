{
 "cells": [
  {
   "cell_type": "markdown",
   "metadata": {},
   "source": [
    "## Kata 6 - Introducción a las listas\n",
    "Ejercicio 1: Usar listas para almacenar nombres de planetas "
   ]
  },
  {
   "cell_type": "code",
   "execution_count": 2,
   "metadata": {},
   "outputs": [
    {
     "name": "stdout",
     "output_type": "stream",
     "text": [
      "El numero de planetas del sistema solar es de:  8\n",
      "El ultimo planeta agregado es:  Plutón\n"
     ]
    }
   ],
   "source": [
    "Planets = [\"Mercurio\", \"Venus\", \"Tierra\", \"Marte\", \"Jupiter\", \"Saturno\", \"Urano\", \"Neptuno\"]\n",
    "print(\"El numero de planetas del sistema solar es de: \", len(Planets))\n",
    "\n",
    "Planets.append(\"Plutón\")\n",
    "print(\"El ultimo planeta agregado es: \", Planets[-1])"
   ]
  },
  {
   "cell_type": "markdown",
   "metadata": {},
   "source": [
    "Ejercicio 2: Trabajando con datos de una lista"
   ]
  },
  {
   "cell_type": "code",
   "execution_count": 14,
   "metadata": {},
   "outputs": [
    {
     "name": "stdout",
     "output_type": "stream",
     "text": [
      "El planeta que elegiste es el más cercano al Sol\n",
      "9\n",
      "Los planetas más alejados del Sol son:  ['Venus', 'Tierra', 'Marte', 'Jupiter', 'Saturno', 'Urano', 'Neptuno', 'Plutón']\n"
     ]
    }
   ],
   "source": [
    "Entrada = input(\"Ingresa el nombre del planeta, utiliza mayúscula al inicio \")\n",
    "posicion = Planets.index(Entrada)\n",
    "if(posicion > 0):\n",
    "    print(\"Los planetas mas cercanos al ingresado son: \", Planets[0:posicion])\n",
    "else:\n",
    "    print(\"El planeta que elegiste es el más cercano al Sol\")\n",
    "ultimo = len(Planets)\n",
    "if(posicion  == ultimo-1):\n",
    "    print(\"El planeta elegido es el más alejado del Sol\")\n",
    "else:\n",
    "    print(\"Los planetas más alejados del Sol son: \", Planets[posicion+1:ultimo])"
   ]
  }
 ],
 "metadata": {
  "interpreter": {
   "hash": "6107faeea8d866e64a33fd7b62ff128b780743465e7bd47d4cb25f62fbe9f903"
  },
  "kernelspec": {
   "display_name": "Python 3.8.10 64-bit",
   "language": "python",
   "name": "python3"
  },
  "language_info": {
   "codemirror_mode": {
    "name": "ipython",
    "version": 3
   },
   "file_extension": ".py",
   "mimetype": "text/x-python",
   "name": "python",
   "nbconvert_exporter": "python",
   "pygments_lexer": "ipython3",
   "version": "3.8.10"
  },
  "orig_nbformat": 4
 },
 "nbformat": 4,
 "nbformat_minor": 2
}
